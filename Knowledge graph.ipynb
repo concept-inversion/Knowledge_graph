{
 "cells": [
  {
   "cell_type": "markdown",
   "metadata": {},
   "source": [
    "## Script \n",
    "This script reads a input file name \"input.dat\" and returns top 5 matching data from the knowledge graph. "
   ]
  },
  {
   "cell_type": "markdown",
   "metadata": {},
   "source": [
    "## The knowledge graph \n",
    "It is hosted in the graph database neo4j. With py2neo, a package which helps to connect neo4j with python, we connect to the database. We run the query to return the most matching words from the list of query words named \"input.dat\". Before running this script, you must have loaded the knowledge graph(db.csv) in the neo4j graph and should be running. The instructions for loading the knowledge graph is mentioned in the README.md file in github. "
   ]
  },
  {
   "cell_type": "markdown",
   "metadata": {},
   "source": [
    "## Format for input.dat\n",
    " The file must contain query words seperated by commas. And the query words must be contained in the graph. For eg:\n",
    " fawn,pet"
   ]
  },
  {
   "cell_type": "code",
   "execution_count": 75,
   "metadata": {},
   "outputs": [],
   "source": [
    "import time\n",
    "from py2neo import Graph, Node\n",
    "graph = Graph(password = \"rosebay\")"
   ]
  },
  {
   "cell_type": "code",
   "execution_count": 76,
   "metadata": {},
   "outputs": [],
   "source": [
    "words = [word.split(',') for word in open(\"input.dat\",\"r\").readlines()]"
   ]
  },
  {
   "cell_type": "code",
   "execution_count": 81,
   "metadata": {},
   "outputs": [
    {
     "name": "stdout",
     "output_type": "stream",
     "text": [
      "--------------------------------------------\n",
      "fawn\n",
      "--------------------------------------------\n",
      "deer 6.500\n",
      "calf 6.200\n",
      "father 4.440\n",
      "brown 4.340\n",
      "color 3.920\n",
      "--------------------------------------------\n",
      "pet\n",
      "--------------------------------------------\n",
      "rabbit 9.830\n",
      "cat 9.530\n",
      "dog 9.230\n",
      "animal 8.650\n",
      "parrot 8.300\n"
     ]
    }
   ],
   "source": [
    "# Todo : Return mismatch message if no word matches in the knowledge graph\n",
    "result = open(\"results.csv\",\"w\")\n",
    "for each in words[0]:\n",
    "    print(\"--------------------------------------------\")\n",
    "    print(each)\n",
    "    result.write(\"\\n----------------\\n\")\n",
    "    result.write(each)\n",
    "    result.write(\"\\n----------------\\n\")\n",
    "    print(\"--------------------------------------------\")\n",
    "    query1 = '''\n",
    "MATCH (n:Word)-[r]->(n2:Word) where n.name= '%s' RETURN n2,r.weight order by r.weight desc limit 5\n",
    "    '''%each\n",
    "    data = graph.run(query1).data()\n",
    "    for each in data:\n",
    "        print(each['n2']['name'],each['r.weight'])\n",
    "        result.write(\"\\n\")\n",
    "        result.write(\"%s,%s\" %(each['n2']['name'],each['r.weight']))\n",
    "        result.write(\"\\n\")"
   ]
  },
  {
   "cell_type": "markdown",
   "metadata": {},
   "source": [
    "# Format of the result:\n",
    "The result is displayed above and also written to a csv file named \"results.csv\". The format of the result is as shown above."
   ]
  },
  {
   "cell_type": "code",
   "execution_count": null,
   "metadata": {},
   "outputs": [],
   "source": []
  }
 ],
 "metadata": {
  "kernelspec": {
   "display_name": "Python 3",
   "language": "python",
   "name": "python3"
  },
  "language_info": {
   "codemirror_mode": {
    "name": "ipython",
    "version": 3
   },
   "file_extension": ".py",
   "mimetype": "text/x-python",
   "name": "python",
   "nbconvert_exporter": "python",
   "pygments_lexer": "ipython3",
   "version": "3.6.5"
  }
 },
 "nbformat": 4,
 "nbformat_minor": 2
}
