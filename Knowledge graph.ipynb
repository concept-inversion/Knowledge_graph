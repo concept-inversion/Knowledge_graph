{
 "cells": [
  {
   "cell_type": "markdown",
   "metadata": {},
   "source": [
    "## Script \n",
    "This script reads a input file name \"input.dat\" and returns top 5 matching data from the knowledge graph. "
   ]
  },
  {
   "cell_type": "markdown",
   "metadata": {},
   "source": [
    "## The knowledge graph \n",
    "It is hosted in the graph database neo4j. With py2neo, a package which helps to connect neo4j with python, we connect to the database. We run the query to return the most matching words from the list of query words named \"input.dat\". Before running this script, you must have loaded the knowledge graph(db.csv) in the neo4j graph and should be running. The instructions for loading the knowledge graph is mentioned in the README.md file in github. "
   ]
  },
  {
   "cell_type": "markdown",
   "metadata": {},
   "source": [
    "## Format for input.dat\n",
    " The file must contain query words seperated by commas. And the query words must be contained in the graph. For eg:\n",
    " fawn,pet"
   ]
  },
  {
   "cell_type": "code",
   "execution_count": 129,
   "metadata": {},
   "outputs": [],
   "source": [
    "import time\n",
    "import pandas as pd\n",
    "from py2neo import Graph, Node\n",
    "graph = Graph(password = \"rosebay\")"
   ]
  },
  {
   "cell_type": "code",
   "execution_count": 130,
   "metadata": {},
   "outputs": [
    {
     "data": {
      "text/plain": [
       "['captain', 'chair']"
      ]
     },
     "execution_count": 130,
     "metadata": {},
     "output_type": "execute_result"
    }
   ],
   "source": [
    "# Read the input query words from the dat file\n",
    "query_words = [word.split(',') for word in open(\"input.dat\",\"r\").readlines()][0]\n",
    "query_words"
   ]
  },
  {
   "cell_type": "markdown",
   "metadata": {},
   "source": [
    "## Recursive Neighbor algorithm based on Breadth First Search"
   ]
  },
  {
   "cell_type": "markdown",
   "metadata": {},
   "source": [
    "### Finding the first neighbors for each query word  "
   ]
  },
  {
   "cell_type": "code",
   "execution_count": 131,
   "metadata": {},
   "outputs": [],
   "source": [
    "d = {}\n",
    "'''\n",
    "The dictionary d will store the neighbor for each query node and the distances between them.\n",
    "'''\n",
    "for each in query_words:\n",
    "    query1 = '''\n",
    "    MATCH (n:Word)-[r]->(n2:Word) where n.name= '%s' RETURN n2.name as words,r.weight as %s order by %s asc\n",
    "    '''%(each,each,each)\n",
    "    data = graph.run(query1).data()\n",
    "    d[each]= pd.DataFrame(data)\n",
    "    "
   ]
  },
  {
   "cell_type": "code",
   "execution_count": 132,
   "metadata": {
    "scrolled": true
   },
   "outputs": [
    {
     "data": {
      "text/html": [
       "<div>\n",
       "<style scoped>\n",
       "    .dataframe tbody tr th:only-of-type {\n",
       "        vertical-align: middle;\n",
       "    }\n",
       "\n",
       "    .dataframe tbody tr th {\n",
       "        vertical-align: top;\n",
       "    }\n",
       "\n",
       "    .dataframe thead th {\n",
       "        text-align: right;\n",
       "    }\n",
       "</style>\n",
       "<table border=\"1\" class=\"dataframe\">\n",
       "  <thead>\n",
       "    <tr style=\"text-align: right;\">\n",
       "      <th></th>\n",
       "      <th>captain</th>\n",
       "      <th>words</th>\n",
       "      <th>chair</th>\n",
       "    </tr>\n",
       "  </thead>\n",
       "  <tbody>\n",
       "    <tr>\n",
       "      <th>0</th>\n",
       "      <td>3.0</td>\n",
       "      <td>angry</td>\n",
       "      <td>NaN</td>\n",
       "    </tr>\n",
       "    <tr>\n",
       "      <th>1</th>\n",
       "      <td>4.0</td>\n",
       "      <td>ring</td>\n",
       "      <td>NaN</td>\n",
       "    </tr>\n",
       "  </tbody>\n",
       "</table>\n",
       "</div>"
      ],
      "text/plain": [
       "   captain  words  chair\n",
       "0      3.0  angry    NaN\n",
       "1      4.0   ring    NaN"
      ]
     },
     "execution_count": 132,
     "metadata": {},
     "output_type": "execute_result"
    }
   ],
   "source": [
    "'''\n",
    "Concat the distance for each node for creating an adjacency matrix with query words as columns, its neighbor as rows.\n",
    "'''\n",
    "total=pd.concat(d.values(),axis=0,sort=False)\n",
    "total.head(2)"
   ]
  },
  {
   "cell_type": "code",
   "execution_count": 133,
   "metadata": {},
   "outputs": [
    {
     "data": {
      "text/html": [
       "<div>\n",
       "<style scoped>\n",
       "    .dataframe tbody tr th:only-of-type {\n",
       "        vertical-align: middle;\n",
       "    }\n",
       "\n",
       "    .dataframe tbody tr th {\n",
       "        vertical-align: top;\n",
       "    }\n",
       "\n",
       "    .dataframe thead th {\n",
       "        text-align: right;\n",
       "    }\n",
       "</style>\n",
       "<table border=\"1\" class=\"dataframe\">\n",
       "  <thead>\n",
       "    <tr style=\"text-align: right;\">\n",
       "      <th></th>\n",
       "      <th>captain</th>\n",
       "      <th>chair</th>\n",
       "    </tr>\n",
       "    <tr>\n",
       "      <th>words</th>\n",
       "      <th></th>\n",
       "      <th></th>\n",
       "    </tr>\n",
       "  </thead>\n",
       "  <tbody>\n",
       "    <tr>\n",
       "      <th>angry</th>\n",
       "      <td>3.0</td>\n",
       "      <td>1000.0</td>\n",
       "    </tr>\n",
       "    <tr>\n",
       "      <th>bed</th>\n",
       "      <td>1000.0</td>\n",
       "      <td>7.0</td>\n",
       "    </tr>\n",
       "  </tbody>\n",
       "</table>\n",
       "</div>"
      ],
      "text/plain": [
       "       captain   chair\n",
       "words                 \n",
       "angry      3.0  1000.0\n",
       "bed     1000.0     7.0"
      ]
     },
     "execution_count": 133,
     "metadata": {},
     "output_type": "execute_result"
    }
   ],
   "source": [
    "'''\n",
    "Groupby operation is performed to combine the distance of each neighbor to query words.\n",
    "Missing connection between nodes are replaced with a distance of 1000.\n",
    "'''\n",
    "merged_total=total.groupby(by=['words']).agg('sum')\n",
    "merged_total.replace(0,1000,inplace=True)\n",
    "merged_total.head(2)"
   ]
  },
  {
   "cell_type": "code",
   "execution_count": 134,
   "metadata": {},
   "outputs": [
    {
     "data": {
      "text/html": [
       "<div>\n",
       "<style scoped>\n",
       "    .dataframe tbody tr th:only-of-type {\n",
       "        vertical-align: middle;\n",
       "    }\n",
       "\n",
       "    .dataframe tbody tr th {\n",
       "        vertical-align: top;\n",
       "    }\n",
       "\n",
       "    .dataframe thead th {\n",
       "        text-align: right;\n",
       "    }\n",
       "</style>\n",
       "<table border=\"1\" class=\"dataframe\">\n",
       "  <thead>\n",
       "    <tr style=\"text-align: right;\">\n",
       "      <th></th>\n",
       "      <th>captain</th>\n",
       "      <th>chair</th>\n",
       "      <th>total</th>\n",
       "    </tr>\n",
       "    <tr>\n",
       "      <th>words</th>\n",
       "      <th></th>\n",
       "      <th></th>\n",
       "      <th></th>\n",
       "    </tr>\n",
       "  </thead>\n",
       "  <tbody>\n",
       "    <tr>\n",
       "      <th>pilot</th>\n",
       "      <td>13.0</td>\n",
       "      <td>7.0</td>\n",
       "      <td>20.0</td>\n",
       "    </tr>\n",
       "    <tr>\n",
       "      <th>angry</th>\n",
       "      <td>3.0</td>\n",
       "      <td>1000.0</td>\n",
       "      <td>1003.0</td>\n",
       "    </tr>\n",
       "    <tr>\n",
       "      <th>smile</th>\n",
       "      <td>4.0</td>\n",
       "      <td>1000.0</td>\n",
       "      <td>1004.0</td>\n",
       "    </tr>\n",
       "    <tr>\n",
       "      <th>shake</th>\n",
       "      <td>4.0</td>\n",
       "      <td>1000.0</td>\n",
       "      <td>1004.0</td>\n",
       "    </tr>\n",
       "    <tr>\n",
       "      <th>ring</th>\n",
       "      <td>4.0</td>\n",
       "      <td>1000.0</td>\n",
       "      <td>1004.0</td>\n",
       "    </tr>\n",
       "  </tbody>\n",
       "</table>\n",
       "</div>"
      ],
      "text/plain": [
       "       captain   chair   total\n",
       "words                         \n",
       "pilot     13.0     7.0    20.0\n",
       "angry      3.0  1000.0  1003.0\n",
       "smile      4.0  1000.0  1004.0\n",
       "shake      4.0  1000.0  1004.0\n",
       "ring       4.0  1000.0  1004.0"
      ]
     },
     "execution_count": 134,
     "metadata": {},
     "output_type": "execute_result"
    }
   ],
   "source": [
    "'''\n",
    "Total distance is calculated by add the distance of neighbor with both query words. And the words are kept in a sorted order.\n",
    "'''\n",
    "merged_total['total']=merged_total.sum(axis=1)\n",
    "merged_total.sort_values('total',inplace=True)\n",
    "merged_total.head(5)"
   ]
  },
  {
   "cell_type": "code",
   "execution_count": 135,
   "metadata": {},
   "outputs": [
    {
     "data": {
      "text/html": [
       "<div>\n",
       "<style scoped>\n",
       "    .dataframe tbody tr th:only-of-type {\n",
       "        vertical-align: middle;\n",
       "    }\n",
       "\n",
       "    .dataframe tbody tr th {\n",
       "        vertical-align: top;\n",
       "    }\n",
       "\n",
       "    .dataframe thead th {\n",
       "        text-align: right;\n",
       "    }\n",
       "</style>\n",
       "<table border=\"1\" class=\"dataframe\">\n",
       "  <thead>\n",
       "    <tr style=\"text-align: right;\">\n",
       "      <th></th>\n",
       "      <th>captain</th>\n",
       "      <th>chair</th>\n",
       "      <th>total</th>\n",
       "    </tr>\n",
       "    <tr>\n",
       "      <th>words</th>\n",
       "      <th></th>\n",
       "      <th></th>\n",
       "      <th></th>\n",
       "    </tr>\n",
       "  </thead>\n",
       "  <tbody>\n",
       "    <tr>\n",
       "      <th>pilot</th>\n",
       "      <td>13.0</td>\n",
       "      <td>7.0</td>\n",
       "      <td>20.0</td>\n",
       "    </tr>\n",
       "    <tr>\n",
       "      <th>angry</th>\n",
       "      <td>3.0</td>\n",
       "      <td>1000.0</td>\n",
       "      <td>1003.0</td>\n",
       "    </tr>\n",
       "    <tr>\n",
       "      <th>smile</th>\n",
       "      <td>4.0</td>\n",
       "      <td>1000.0</td>\n",
       "      <td>1004.0</td>\n",
       "    </tr>\n",
       "    <tr>\n",
       "      <th>shake</th>\n",
       "      <td>4.0</td>\n",
       "      <td>1000.0</td>\n",
       "      <td>1004.0</td>\n",
       "    </tr>\n",
       "    <tr>\n",
       "      <th>ring</th>\n",
       "      <td>4.0</td>\n",
       "      <td>1000.0</td>\n",
       "      <td>1004.0</td>\n",
       "    </tr>\n",
       "  </tbody>\n",
       "</table>\n",
       "</div>"
      ],
      "text/plain": [
       "       captain   chair   total\n",
       "words                         \n",
       "pilot     13.0     7.0    20.0\n",
       "angry      3.0  1000.0  1003.0\n",
       "smile      4.0  1000.0  1004.0\n",
       "shake      4.0  1000.0  1004.0\n",
       "ring       4.0  1000.0  1004.0"
      ]
     },
     "execution_count": 135,
     "metadata": {},
     "output_type": "execute_result"
    }
   ],
   "source": [
    "'''\n",
    "A global list is generated storing the top 5 closed neighbors with the query node\n",
    "'''\n",
    "global_list =merged_total[:5]\n",
    "global_list.head()"
   ]
  },
  {
   "cell_type": "markdown",
   "metadata": {},
   "source": [
    "#### Expanding the hops\n",
    "At first, Queue is filled with first neighbor or global_list \n",
    "Steps:\n",
    "    1. Start exploring each node of the queue.\n",
    "    2. Generate distance for neighbors of that node with every query words.\n",
    "    3. For each neighbor, if the total distance[collective distance] is less than max, than add that to the queue. (As adding          nodes having less distance than max can expand to more close node)\n",
    "    4. Update the global list with new neighbour and also update the max_distance\n",
    "    5. Repeat until a max_limit or queue is empty"
   ]
  },
  {
   "cell_type": "code",
   "execution_count": 136,
   "metadata": {},
   "outputs": [
    {
     "data": {
      "text/plain": [
       "1004.0"
      ]
     },
     "execution_count": 136,
     "metadata": {},
     "output_type": "execute_result"
    }
   ],
   "source": [
    "# get maximum distance\n",
    "max_distance = global_list['total'].iloc[4]\n",
    "max_distance"
   ]
  },
  {
   "cell_type": "code",
   "execution_count": 137,
   "metadata": {},
   "outputs": [
    {
     "data": {
      "text/plain": [
       "['pilot', 'angry', 'smile', 'shake', 'ring']"
      ]
     },
     "execution_count": 137,
     "metadata": {},
     "output_type": "execute_result"
    }
   ],
   "source": [
    "# Create a list of neighbor to explore\n",
    "queue = [row_index for row_index,row in global_list.iterrows()]\n",
    "queue"
   ]
  },
  {
   "cell_type": "code",
   "execution_count": 138,
   "metadata": {},
   "outputs": [],
   "source": [
    "# Create a list of explored nodes\n",
    "explored = list()"
   ]
  },
  {
   "cell_type": "code",
   "execution_count": 139,
   "metadata": {},
   "outputs": [
    {
     "name": "stdout",
     "output_type": "stream",
     "text": [
      "--------------------------------------\n",
      "Expanding node pilot:\n",
      "explored nodes: \n",
      "[]\n",
      "nodes in queue: \n",
      "['angry', 'smile', 'shake', 'ring']\n",
      "--------------------------------------\n",
      "max distance is: 1004\n",
      "--------------------------------------\n",
      "Expanding node angry:\n",
      "explored nodes: \n",
      "['pilot']\n",
      "nodes in queue: \n",
      "['smile', 'shake', 'ring', 'father', 'plant', 'down', 'helicopter', 'whale', 'wing', 'fly', 'plane', 'train']\n",
      "--------------------------------------\n",
      "max distance is: 41\n",
      "--------------------------------------\n",
      "Expanding node smile:\n",
      "explored nodes: \n",
      "['pilot', 'angry']\n",
      "nodes in queue: \n",
      "['shake', 'ring', 'father', 'plant', 'down', 'helicopter', 'whale', 'wing', 'fly', 'plane', 'train']\n",
      "--------------------------------------\n",
      "max distance is: 41\n",
      "--------------------------------------\n",
      "Expanding node shake:\n",
      "explored nodes: \n",
      "['pilot', 'angry', 'smile']\n",
      "nodes in queue: \n",
      "['ring', 'father', 'plant', 'down', 'helicopter', 'whale', 'wing', 'fly', 'plane', 'train']\n",
      "--------------------------------------\n",
      "max distance is: 41\n",
      "--------------------------------------\n",
      "Expanding node ring:\n",
      "explored nodes: \n",
      "['pilot', 'angry', 'smile', 'shake']\n",
      "nodes in queue: \n",
      "['father', 'plant', 'down', 'helicopter', 'whale', 'wing', 'fly', 'plane', 'train']\n",
      "--------------------------------------\n",
      "max distance is: 41\n",
      "--------------------------------------\n",
      "Expanding node father:\n",
      "explored nodes: \n",
      "['pilot', 'angry', 'smile', 'shake', 'ring']\n",
      "nodes in queue: \n",
      "['plant', 'down', 'helicopter', 'whale', 'wing', 'fly', 'plane', 'train']\n",
      "--------------------------------------\n",
      "max distance is: 41\n",
      "--------------------------------------\n",
      "Expanding node plant:\n",
      "explored nodes: \n",
      "['pilot', 'angry', 'smile', 'shake', 'ring', 'father']\n",
      "nodes in queue: \n",
      "['down', 'helicopter', 'whale', 'wing', 'fly', 'plane', 'train']\n",
      "--------------------------------------\n",
      "max distance is: 41\n",
      "--------------------------------------\n",
      "Expanding node down:\n",
      "explored nodes: \n",
      "['pilot', 'angry', 'smile', 'shake', 'ring', 'father', 'plant']\n",
      "nodes in queue: \n",
      "['helicopter', 'whale', 'wing', 'fly', 'plane', 'train']\n",
      "--------------------------------------\n",
      "max distance is: 41\n",
      "--------------------------------------\n",
      "Expanding node helicopter:\n",
      "explored nodes: \n",
      "['pilot', 'angry', 'smile', 'shake', 'ring', 'father', 'plant', 'down']\n",
      "nodes in queue: \n",
      "['whale', 'wing', 'fly', 'plane', 'train']\n",
      "--------------------------------------\n",
      "max distance is: 41\n",
      "--------------------------------------\n",
      "Expanding node whale:\n",
      "explored nodes: \n",
      "['pilot', 'angry', 'smile', 'shake', 'ring', 'father', 'plant', 'down', 'helicopter']\n",
      "nodes in queue: \n",
      "['wing', 'fly', 'plane', 'train']\n",
      "--------------------------------------\n",
      "max distance is: 41\n",
      "--------------------------------------\n",
      "Expanding node wing:\n",
      "explored nodes: \n",
      "['pilot', 'angry', 'smile', 'shake', 'ring', 'father', 'plant', 'down', 'helicopter', 'whale']\n",
      "nodes in queue: \n",
      "['fly', 'plane', 'train']\n",
      "--------------------------------------\n",
      "max distance is: 41\n",
      "--------------------------------------\n",
      "Expanding node fly:\n",
      "explored nodes: \n",
      "['pilot', 'angry', 'smile', 'shake', 'ring', 'father', 'plant', 'down', 'helicopter', 'whale', 'wing']\n",
      "nodes in queue: \n",
      "['plane', 'train']\n",
      "--------------------------------------\n",
      "max distance is: 41\n",
      "--------------------------------------\n",
      "Expanding node plane:\n",
      "explored nodes: \n",
      "['pilot', 'angry', 'smile', 'shake', 'ring', 'father', 'plant', 'down', 'helicopter', 'whale', 'wing', 'fly']\n",
      "nodes in queue: \n",
      "['train']\n",
      "--------------------------------------\n",
      "max distance is: 41\n",
      "--------------------------------------\n",
      "Expanding node train:\n",
      "explored nodes: \n",
      "['pilot', 'angry', 'smile', 'shake', 'ring', 'father', 'plant', 'down', 'helicopter', 'whale', 'wing', 'fly', 'plane']\n",
      "nodes in queue: \n",
      "[]\n",
      "--------------------------------------\n",
      "max distance is: 41\n"
     ]
    }
   ],
   "source": [
    "i=0\n",
    "while len(queue)!=0:\n",
    "    i+=1\n",
    "    '''\n",
    "    Set a limit of maximum node to expand(optional). Can be removed\n",
    "    '''\n",
    "    if i >=30:\n",
    "        break\n",
    "    each_word = queue.pop(0)\n",
    "    d2 = {}\n",
    "    print(\"--------------------------------------\")    \n",
    "    print(\"Expanding node %s:\"%each_word)\n",
    "    print(\"explored nodes: \")\n",
    "    print(explored)\n",
    "    print(\"nodes in queue: \")\n",
    "    print(queue)\n",
    "    print(\"--------------------------------------\")\n",
    "    print(\"max distance is: %d\"%max_distance)\n",
    "    '''\n",
    "    Create a table for each query_words in dictionary and at last, concat all the tables\n",
    "    '''\n",
    "    for each in query_words:\n",
    "        query='''// neighbor nodes and total distance to a query word\n",
    "        match(n:Word)-[r]->(n1:Word)-[r2]->(n2:Word) \n",
    "        where n1.name='%s' AND n.name='%s'\n",
    "        return n2.name as words,sum(r.weight+r2.weight) as %s\n",
    "        order by words,%s'''%(each_word,each,each,each)\n",
    "        data2 = graph.run(query).data()\n",
    "        d2[each]=pd.DataFrame(data2)\n",
    "    aggregate=pd.concat(d2.values(),axis=0,sort=False) \n",
    "    #TODO: Discard empty dataframes\n",
    "    if aggregate.shape[0]==0:   \n",
    "        explored.append(each_word)\n",
    "        continue\n",
    "    # Remove rows including query values\n",
    "    aggregate[~aggregate['words'].isin(query_words)]\n",
    "\n",
    "    aggregate_total=aggregate.groupby(by=['words']).agg('sum')\n",
    "    \n",
    "    aggregate_total.replace(0,1000,inplace=True)\n",
    "    #check if columns are missing\n",
    "    A = set(aggregate_total)\n",
    "    B = set(query_words)\n",
    "    missing=list(B-A)\n",
    "    for each in missing:\n",
    "        aggregate_total[each]= 1000\n",
    "    aggregate_total['total']=aggregate_total.sum(axis=1)\n",
    "    #print(aggregate_total.head(2))\n",
    "    aggregate_total.sort_values('total',inplace=True)    \n",
    "    # check if the node is explored and distance is less than max for adding to the queue\n",
    "    less_than_max=aggregate_total.index[aggregate_total['total'] < max_distance].tolist()\n",
    "    for each in less_than_max:\n",
    "        if each not in explored:\n",
    "            queue.append(each)\n",
    "    global_list=global_list.append(aggregate_total,sort=True)\n",
    "    global_list.sort_values('total',inplace=True)\n",
    "    # update max\n",
    "    max_distance = global_list['total'].iloc[4]\n",
    "    explored.append(each_word)\n",
    "    "
   ]
  },
  {
   "cell_type": "code",
   "execution_count": 140,
   "metadata": {},
   "outputs": [
    {
     "data": {
      "text/html": [
       "<div>\n",
       "<style scoped>\n",
       "    .dataframe tbody tr th:only-of-type {\n",
       "        vertical-align: middle;\n",
       "    }\n",
       "\n",
       "    .dataframe tbody tr th {\n",
       "        vertical-align: top;\n",
       "    }\n",
       "\n",
       "    .dataframe thead th {\n",
       "        text-align: right;\n",
       "    }\n",
       "</style>\n",
       "<table border=\"1\" class=\"dataframe\">\n",
       "  <thead>\n",
       "    <tr style=\"text-align: right;\">\n",
       "      <th></th>\n",
       "      <th>captain</th>\n",
       "      <th>chair</th>\n",
       "      <th>total</th>\n",
       "    </tr>\n",
       "    <tr>\n",
       "      <th>words</th>\n",
       "      <th></th>\n",
       "      <th></th>\n",
       "      <th></th>\n",
       "    </tr>\n",
       "  </thead>\n",
       "  <tbody>\n",
       "    <tr>\n",
       "      <th>pilot</th>\n",
       "      <td>13.0</td>\n",
       "      <td>7.0</td>\n",
       "      <td>20.0</td>\n",
       "    </tr>\n",
       "    <tr>\n",
       "      <th>father</th>\n",
       "      <td>25.0</td>\n",
       "      <td>13.0</td>\n",
       "      <td>38.0</td>\n",
       "    </tr>\n",
       "    <tr>\n",
       "      <th>plant</th>\n",
       "      <td>25.0</td>\n",
       "      <td>13.0</td>\n",
       "      <td>38.0</td>\n",
       "    </tr>\n",
       "    <tr>\n",
       "      <th>down</th>\n",
       "      <td>27.0</td>\n",
       "      <td>14.0</td>\n",
       "      <td>41.0</td>\n",
       "    </tr>\n",
       "    <tr>\n",
       "      <th>helicopter</th>\n",
       "      <td>27.0</td>\n",
       "      <td>14.0</td>\n",
       "      <td>41.0</td>\n",
       "    </tr>\n",
       "    <tr>\n",
       "      <th>whale</th>\n",
       "      <td>27.0</td>\n",
       "      <td>14.0</td>\n",
       "      <td>41.0</td>\n",
       "    </tr>\n",
       "    <tr>\n",
       "      <th>wing</th>\n",
       "      <td>27.0</td>\n",
       "      <td>14.0</td>\n",
       "      <td>41.0</td>\n",
       "    </tr>\n",
       "    <tr>\n",
       "      <th>fly</th>\n",
       "      <td>29.0</td>\n",
       "      <td>15.0</td>\n",
       "      <td>44.0</td>\n",
       "    </tr>\n",
       "    <tr>\n",
       "      <th>plane</th>\n",
       "      <td>31.0</td>\n",
       "      <td>16.0</td>\n",
       "      <td>47.0</td>\n",
       "    </tr>\n",
       "    <tr>\n",
       "      <th>train</th>\n",
       "      <td>48.0</td>\n",
       "      <td>25.0</td>\n",
       "      <td>73.0</td>\n",
       "    </tr>\n",
       "  </tbody>\n",
       "</table>\n",
       "</div>"
      ],
      "text/plain": [
       "            captain  chair  total\n",
       "words                            \n",
       "pilot          13.0    7.0   20.0\n",
       "father         25.0   13.0   38.0\n",
       "plant          25.0   13.0   38.0\n",
       "down           27.0   14.0   41.0\n",
       "helicopter     27.0   14.0   41.0\n",
       "whale          27.0   14.0   41.0\n",
       "wing           27.0   14.0   41.0\n",
       "fly            29.0   15.0   44.0\n",
       "plane          31.0   16.0   47.0\n",
       "train          48.0   25.0   73.0"
      ]
     },
     "execution_count": 140,
     "metadata": {},
     "output_type": "execute_result"
    }
   ],
   "source": [
    "global_list.sort_values('total',inplace=True)\n",
    "global_list.head(10)"
   ]
  },
  {
   "cell_type": "code",
   "execution_count": 141,
   "metadata": {},
   "outputs": [],
   "source": [
    "# Generate csv for writing the result. Uncomment the code below to write\n",
    "\n",
    "#global_list.to_csv('result.csv')"
   ]
  },
  {
   "cell_type": "markdown",
   "metadata": {},
   "source": [
    "## Minimum Spanning Tree"
   ]
  },
  {
   "cell_type": "code",
   "execution_count": 142,
   "metadata": {},
   "outputs": [],
   "source": [
    "# Read input from the dat file\n",
    "words = [word.split(',') for word in open(\"input.dat\",\"r\").readlines()][0]"
   ]
  },
  {
   "cell_type": "code",
   "execution_count": 143,
   "metadata": {},
   "outputs": [
    {
     "data": {
      "text/plain": [
       "['captain', 'chair']"
      ]
     },
     "execution_count": 143,
     "metadata": {},
     "output_type": "execute_result"
    }
   ],
   "source": [
    "words"
   ]
  },
  {
   "cell_type": "code",
   "execution_count": 144,
   "metadata": {},
   "outputs": [],
   "source": [
    "'''\n",
    "create a Minimum Spanning Tree\n",
    "'''\n",
    "\n",
    "query2 = '''// MST\n",
    "match (n:Word) where n.name in ['captain','chair']\n",
    "call algo.spanningTree.minimum('Word','RELATED','weight',id(n),{write:true, writeProperty:\"MINST\"})\n",
    "yield effectiveNodeCount\n",
    "return effectiveNodeCount;'''"
   ]
  },
  {
   "cell_type": "code",
   "execution_count": 145,
   "metadata": {},
   "outputs": [],
   "source": [
    "'''\n",
    "Read the MST\n",
    "'''\n",
    "\n",
    "query2='''// Read MST Relationship\n",
    "match path = (n:Word)-[:MINST]->() where n.name in ['sofa','fawn']\n",
    "with relationships(path) as rels\n",
    "unwind rels as rel\n",
    "with distinct rel as rel\n",
    "Return startNode(rel).name as source, endNode(rel).name as destination, rel.weight as cost'''"
   ]
  },
  {
   "cell_type": "code",
   "execution_count": null,
   "metadata": {},
   "outputs": [],
   "source": []
  }
 ],
 "metadata": {
  "kernelspec": {
   "display_name": "Python 3",
   "language": "python",
   "name": "python3"
  },
  "language_info": {
   "codemirror_mode": {
    "name": "ipython",
    "version": 3
   },
   "file_extension": ".py",
   "mimetype": "text/x-python",
   "name": "python",
   "nbconvert_exporter": "python",
   "pygments_lexer": "ipython3",
   "version": "3.5.2"
  }
 },
 "nbformat": 4,
 "nbformat_minor": 2
}
